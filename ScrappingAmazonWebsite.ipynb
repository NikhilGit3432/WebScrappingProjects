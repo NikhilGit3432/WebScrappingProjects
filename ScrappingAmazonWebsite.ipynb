{
 "cells": [
  {
   "cell_type": "markdown",
   "id": "5aefc99f-585d-421e-af74-18f93284d2eb",
   "metadata": {},
   "source": [
    "## BooksPrimaryDeatilsFile"
   ]
  },
  {
   "cell_type": "markdown",
   "id": "df76d35c-e6cb-4d27-8914-580cde915347",
   "metadata": {},
   "source": [
    "## BooksPrimaryDeatilsItemsFile"
   ]
  },
  {
   "cell_type": "code",
   "execution_count": 11,
   "id": "95f2be5f-90fc-47de-a05f-2706527366b0",
   "metadata": {},
   "outputs": [],
   "source": [
    "# Define here the models for your scraped items\n",
    "#\n",
    "# See documentation in:\n",
    "# https://docs.scrapy.org/en/latest/topics/items.html\n",
    "\n",
    "import scrapy\n",
    "\n",
    "\n",
    "class AmazonBookItem(scrapy.Item):\n",
    "    page_number = scrapy.Field()\n",
    "    title = scrapy.Field()\n",
    "    author = scrapy.Field()\n",
    "    listed_price = scrapy.Field()\n",
    "    mrp = scrapy.Field()\n",
    "    published_date = scrapy.Field()\n",
    "    ratings_count = scrapy.Field()\n",
    "    edition = scrapy.Field()\n"
   ]
  },
  {
   "cell_type": "markdown",
   "id": "2760f274-1256-48d6-9580-d9ec7d774223",
   "metadata": {},
   "source": [
    "## BooksPrimaryDeatilsFile"
   ]
  },
  {
   "cell_type": "code",
   "execution_count": null,
   "id": "d34a6419-8e08-46ba-a64f-c23b83f72511",
   "metadata": {},
   "outputs": [],
   "source": [
    "import scrapy\n",
    "from ..items import AmazonBookItem  # Adjust the import according to your project structure\n",
    "\n",
    "class AmazonBookSpider(scrapy.Spider):\n",
    "    name = 'amazon_books'\n",
    "    allowed_domains = ['amazon.in']\n",
    "    start_urls = [\n",
    "        'https://www.amazon.in/s?k=books'\n",
    "    ]\n",
    "\n",
    "    # Counter to track the number of pages scraped\n",
    "    page_count = 1\n",
    "    max_pages = 10\n",
    "\n",
    "    def parse(self, response, **kwargs):\n",
    "        container = response.css('div.s-main-slot div.s-result-item')\n",
    "\n",
    "        for book in container:\n",
    "            item = AmazonBookItem()\n",
    "            item['page_number'] = self.page_count\n",
    "            item['title'] = book.css('span.a-size-medium.a-color-base.a-text-normal::text').get()\n",
    "            item['author'] = book.css('div.a-row.a-size-base.a-color-secondary div.a-row span::text').get()\n",
    "            item['listed_price'] = book.css('span.a-price-whole::text').get()\n",
    "            item['mrp'] = book.css('span.a-price.a-text-price span.a-offscreen::text').get()\n",
    "            item['published_date'] = book.css('span.a-size-base.a-color-secondary::text').re_first(r'Published.*\\d{4}')\n",
    "            item['ratings_count'] = book.css('span.a-size-base.s-underline-text::text').get()\n",
    "            item['edition'] = book.css('span.a-size-base::text').re_first(r'\\d{4}/Edn')\n",
    "\n",
    "            yield item\n",
    "\n",
    "        # Proceed to the next page if the page count is less than max_pages\n",
    "        if self.page_count < self.max_pages:\n",
    "            next_page = response.css('a.s-pagination-next::attr(href)').get()\n",
    "            if next_page:\n",
    "                self.page_count += 1\n",
    "                yield response.follow(next_page, self.parse)\n"
   ]
  },
  {
   "cell_type": "markdown",
   "id": "861caa93-19bb-4648-9f0f-f6ded7a7cdf5",
   "metadata": {},
   "source": [
    "## BookStarRatingPercentageItemsFile"
   ]
  },
  {
   "cell_type": "code",
   "execution_count": 17,
   "id": "88c8f792-0e09-4c89-817b-640d8f5662cb",
   "metadata": {},
   "outputs": [],
   "source": [
    "import scrapy\n",
    "\n",
    "\n",
    "class BookScrappingItem(scrapy.Item):\n",
    "    book_name = scrapy.Field()\n",
    "    details_page = scrapy.Field()\n",
    "    five_star_rating = scrapy.Field()\n",
    "    four_star_rating = scrapy.Field()\n",
    "    three_star_rating = scrapy.Field()\n",
    "    two_star_rating = scrapy.Field()\n",
    "    one_star_rating = scrapy.Field()\n",
    "    page_number = scrapy.Field()  # Add page_number field to store page number\n"
   ]
  },
  {
   "cell_type": "markdown",
   "id": "8f60213c-d5df-49cc-8faf-f8f696bb4b8f",
   "metadata": {},
   "source": [
    "## BookStarRatingPercentages"
   ]
  },
  {
   "cell_type": "code",
   "execution_count": null,
   "id": "d1926f65-3e57-4f70-be46-a274c947e401",
   "metadata": {},
   "outputs": [],
   "source": []
  }
 ],
 "metadata": {
  "kernelspec": {
   "display_name": "Python 3 (ipykernel)",
   "language": "python",
   "name": "python3"
  },
  "language_info": {
   "codemirror_mode": {
    "name": "ipython",
    "version": 3
   },
   "file_extension": ".py",
   "mimetype": "text/x-python",
   "name": "python",
   "nbconvert_exporter": "python",
   "pygments_lexer": "ipython3",
   "version": "3.12.4"
  }
 },
 "nbformat": 4,
 "nbformat_minor": 5
}
